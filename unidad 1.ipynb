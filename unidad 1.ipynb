{
 "cells": [
  {
   "cell_type": "markdown",
   "metadata": {},
   "source": [
    " # Aguirre Parada Mariajose \n",
    "# Estructuras y Organización de Datos\n",
    "# La función print"
   ]
  },
  {
   "cell_type": "code",
   "execution_count": 1,
   "metadata": {},
   "outputs": [
    {
     "name": "stdout",
     "output_type": "stream",
     "text": [
      "5\n",
      "Hola Mundo\n",
      "\n",
      "El valor \n",
      " de x es: 5 el valor de 'y' es: 7\n"
     ]
    }
   ],
   "source": [
    "x=5\n",
    "y=7\n",
    "print(x)\n",
    "print(\"Hola Mundo\")\n",
    "print()\n",
    "print ('El valor \\n de x es:', x, 'el valor de \\'y\\' es:', y)"
   ]
  },
  {
   "cell_type": "code",
   "execution_count": 2,
   "metadata": {},
   "outputs": [
    {
     "name": "stdout",
     "output_type": "stream",
     "text": [
      "El valor de x es: 5***El valor de 'y' es: 7\n",
      "Holas\n"
     ]
    }
   ],
   "source": [
    "# Usamos en parámetro end para especificar cual es el terminador de línea en una instrucción print.\n",
    "print ('El valor de x es:', x, end='***')\n",
    "print ('El valor de \\'y\\' es:', y)\n",
    "print (\"Holas\")"
   ]
  },
  {
   "cell_type": "code",
   "execution_count": 3,
   "metadata": {},
   "outputs": [
    {
     "name": "stdout",
     "output_type": "stream",
     "text": [
      "El valor de x es -> 5\n",
      "El valor de 'y' es: 7\n"
     ]
    }
   ],
   "source": [
    "# Especificar el texto que separa los argumentos de la función print.\n",
    "# Usamos el parámetro sep para indicar el separador de argumentos.\n",
    "print ('El valor de x es', x , sep=' -> ')\n",
    "print('El valor de \\'y\\' es:', y)"
   ]
  },
  {
   "cell_type": "code",
   "execution_count": 4,
   "metadata": {},
   "outputs": [
    {
     "name": "stdout",
     "output_type": "stream",
     "text": [
      "El valor de x es -> 5\n",
      "\n",
      "\n",
      "El valor de 'y' es: 7\n"
     ]
    }
   ],
   "source": [
    "# Especificar separador de argumentos y separador de línea.\n",
    "print ('El valor de x es', x , sep=' -> ', end='\\n\\n\\n')\n",
    "print('El valor de \\'y\\' es:', y)"
   ]
  },
  {
   "cell_type": "markdown",
   "metadata": {},
   "source": [
    "# LITERALES "
   ]
  },
  {
   "cell_type": "code",
   "execution_count": 5,
   "metadata": {},
   "outputs": [
    {
     "name": "stdout",
     "output_type": "stream",
     "text": [
      "texto\n"
     ]
    }
   ],
   "source": [
    "x= 1100000\n",
    "x= 123.87\n",
    "x= \"texto\"\n",
    "print(x)"
   ]
  },
  {
   "cell_type": "code",
   "execution_count": 6,
   "metadata": {},
   "outputs": [
    {
     "name": "stdout",
     "output_type": "stream",
     "text": [
      "55000000\n"
     ]
    }
   ],
   "source": [
    "# Números con separadores de miles.\n",
    "# Forzosamente debe usarse un guión bajo.\n",
    "x= 11_000_000\n",
    "y= 5\n",
    "print(x * y)"
   ]
  },
  {
   "cell_type": "code",
   "execution_count": 7,
   "metadata": {},
   "outputs": [
    {
     "name": "stdout",
     "output_type": "stream",
     "text": [
      "5349\n"
     ]
    }
   ],
   "source": [
    "# Valores octales.\n",
    "x= 0o12345\n",
    "print(x)"
   ]
  },
  {
   "cell_type": "code",
   "execution_count": 8,
   "metadata": {},
   "outputs": [
    {
     "name": "stdout",
     "output_type": "stream",
     "text": [
      "74565\n"
     ]
    }
   ],
   "source": [
    "# Valores hexadecimales.\n",
    "x= 0x12345\n",
    "print(x)"
   ]
  },
  {
   "cell_type": "code",
   "execution_count": 9,
   "metadata": {},
   "outputs": [
    {
     "name": "stdout",
     "output_type": "stream",
     "text": [
      "0.5\n"
     ]
    }
   ],
   "source": [
    "z= .5\n",
    "print(z)"
   ]
  },
  {
   "cell_type": "code",
   "execution_count": 10,
   "metadata": {},
   "outputs": [
    {
     "name": "stdout",
     "output_type": "stream",
     "text": [
      "30000000 310000000.0\n"
     ]
    }
   ],
   "source": [
    "vl= 30000000\n",
    "vl2= 3.1e8\n",
    "print(vl, vl2)"
   ]
  },
  {
   "cell_type": "code",
   "execution_count": 11,
   "metadata": {},
   "outputs": [
    {
     "name": "stdout",
     "output_type": "stream",
     "text": [
      "80.0\n"
     ]
    }
   ],
   "source": [
    "w= 0.08e3\n",
    "print(w)"
   ]
  },
  {
   "cell_type": "code",
   "execution_count": 12,
   "metadata": {},
   "outputs": [
    {
     "name": "stdout",
     "output_type": "stream",
     "text": [
      "I'm a girl\n"
     ]
    }
   ],
   "source": [
    "x= \"I'm a girl\"\n",
    "print(x)"
   ]
  },
  {
   "cell_type": "code",
   "execution_count": 13,
   "metadata": {},
   "outputs": [
    {
     "name": "stdout",
     "output_type": "stream",
     "text": [
      "I\"m a girl\n"
     ]
    }
   ],
   "source": [
    "x= 'I\"m a girl'\n",
    "print(x)"
   ]
  },
  {
   "cell_type": "code",
   "execution_count": 14,
   "metadata": {},
   "outputs": [
    {
     "name": "stdout",
     "output_type": "stream",
     "text": [
      "*******************\n"
     ]
    }
   ],
   "source": [
    "print (\"*******************\")"
   ]
  },
  {
   "cell_type": "code",
   "execution_count": 15,
   "metadata": {},
   "outputs": [
    {
     "name": "stdout",
     "output_type": "stream",
     "text": [
      "**************************************************\n",
      "Hola Hola Hola Hola Hola Hola Hola Hola Hola Hola Hola Hola Hola Hola Hola Hola Hola Hola Hola Hola Hola Hola Hola Hola Hola Hola Hola Hola Hola Hola Hola Hola Hola Hola Hola Hola Hola Hola Hola Hola Hola Hola Hola Hola Hola Hola Hola Hola Hola Hola \n"
     ]
    }
   ],
   "source": [
    "# Multiplicar cadenas de texto.\n",
    "print (\"*\" * 50)\n",
    "print (\"Hola \" * 50)"
   ]
  },
  {
   "cell_type": "markdown",
   "metadata": {},
   "source": [
    "# OPERADORES"
   ]
  },
  {
   "cell_type": "code",
   "execution_count": 17,
   "metadata": {},
   "outputs": [
    {
     "name": "stdout",
     "output_type": "stream",
     "text": [
      "45\n",
      "59049\n",
      "45.0\n",
      "5.0\n",
      "4\n",
      "0\n",
      "3\n",
      "30\n",
      "256\n"
     ]
    }
   ],
   "source": [
    "# Operadores (multiplicación)\n",
    "print (9*5)\n",
    "# Operadores (exponienciación, operador **).\n",
    "print (9 **5)\n",
    "# Multiplicación entero por número flotante.\n",
    "print (9*5.0)\n",
    "# División (no importa si dividimos dos números enteros, el resultado siempre será de tipo flotante).\n",
    "print(10/2)\n",
    "# Divisón de tipo entera (operador //).\n",
    "print (8//2)\n",
    "# Residuo de una división (Módulo, operador %).\n",
    "print (8%2)\n",
    "# Operador unario.\n",
    "print (+3)\n",
    "# Jerarquía de operaciones.\n",
    "print ((3+3) *5)\n",
    "# Orden de operadores con la misma prioridad.\n",
    "print (2**2**3)"
   ]
  },
  {
   "cell_type": "markdown",
   "metadata": {},
   "source": [
    "# VARIABLES "
   ]
  },
  {
   "cell_type": "code",
   "execution_count": 19,
   "metadata": {},
   "outputs": [],
   "source": [
    "x= 123"
   ]
  },
  {
   "cell_type": "code",
   "execution_count": 20,
   "metadata": {},
   "outputs": [],
   "source": [
    "X = \"Hola mundo\""
   ]
  },
  {
   "cell_type": "code",
   "execution_count": 21,
   "metadata": {},
   "outputs": [
    {
     "ename": "SyntaxError",
     "evalue": "cannot assign to True (<ipython-input-21-308e87978855>, line 2)",
     "output_type": "error",
     "traceback": [
      "\u001b[1;36m  File \u001b[1;32m\"<ipython-input-21-308e87978855>\"\u001b[1;36m, line \u001b[1;32m2\u001b[0m\n\u001b[1;33m    True = 1\u001b[0m\n\u001b[1;37m    ^\u001b[0m\n\u001b[1;31mSyntaxError\u001b[0m\u001b[1;31m:\u001b[0m cannot assign to True\n"
     ]
    }
   ],
   "source": [
    "# Palabra reservada que no puede ser usada como variable.\n",
    "True = 1"
   ]
  },
  {
   "cell_type": "markdown",
   "metadata": {},
   "source": [
    "# OPERADORES ABREVIADOS "
   ]
  },
  {
   "cell_type": "code",
   "execution_count": 22,
   "metadata": {},
   "outputs": [
    {
     "name": "stdout",
     "output_type": "stream",
     "text": [
      "8\n"
     ]
    }
   ],
   "source": [
    "x = 5\n",
    "x =  x + 3\n",
    "print (x)"
   ]
  },
  {
   "cell_type": "code",
   "execution_count": 23,
   "metadata": {},
   "outputs": [
    {
     "name": "stdout",
     "output_type": "stream",
     "text": [
      "8\n"
     ]
    }
   ],
   "source": [
    "# Simplificación de la operación anterior.\n",
    "x = 5\n",
    "x += 3\n",
    "print (x)"
   ]
  },
  {
   "cell_type": "code",
   "execution_count": 24,
   "metadata": {},
   "outputs": [
    {
     "name": "stdout",
     "output_type": "stream",
     "text": [
      "125\n"
     ]
    }
   ],
   "source": [
    "x = 5\n",
    "x =  x ** 3\n",
    "print (x)"
   ]
  },
  {
   "cell_type": "code",
   "execution_count": 25,
   "metadata": {},
   "outputs": [
    {
     "name": "stdout",
     "output_type": "stream",
     "text": [
      "125\n"
     ]
    }
   ],
   "source": [
    "# Simplificación de la potencia anterior.\n",
    "x = 5\n",
    "x **=3\n",
    "print (x)"
   ]
  },
  {
   "cell_type": "code",
   "execution_count": 26,
   "metadata": {},
   "outputs": [
    {
     "name": "stdout",
     "output_type": "stream",
     "text": [
      "3.3333333333333335\n"
     ]
    }
   ],
   "source": [
    "x = 10\n",
    "x =  x / 3\n",
    "print (x)"
   ]
  },
  {
   "cell_type": "code",
   "execution_count": 27,
   "metadata": {},
   "outputs": [
    {
     "name": "stdout",
     "output_type": "stream",
     "text": [
      "3.3333333333333335\n"
     ]
    }
   ],
   "source": [
    "x = 10\n",
    "x /= 3\n",
    "print (x)"
   ]
  },
  {
   "cell_type": "code",
   "execution_count": 2,
   "metadata": {},
   "outputs": [
    {
     "name": "stdout",
     "output_type": "stream",
     "text": [
      "b es mayor que a\n",
      "b vale => 12500\n",
      "fin del if\n"
     ]
    }
   ],
   "source": [
    "a = 3000\n",
    "b = 12500\n",
    "if b > a :\n",
    "    print(\"b es mayor que a\")\n",
    "    print(\"b vale =>\", b)\n",
    "else:\n",
    "    print(\"a es mayor que b\")\n",
    "    print(\"a vale =>\", a)\n",
    "print(\"fin del if\")"
   ]
  },
  {
   "cell_type": "code",
   "execution_count": 3,
   "metadata": {},
   "outputs": [
    {
     "name": "stdout",
     "output_type": "stream",
     "text": [
      "a es igual que b\n",
      "a y b valen => 3000\n",
      "fin del if\n"
     ]
    }
   ],
   "source": [
    "a = 3000\n",
    "b = 3000\n",
    "if b > a :\n",
    "    print(\"b es mayor que a\")\n",
    "    print(\"b vale =>\", b)\n",
    "elif a==b:\n",
    "    print(\"a es igual que b\")\n",
    "    print(\"a y b valen =>\", a)\n",
    "else:\n",
    "    print(\"a es mayor que b\")\n",
    "    print(\"a vale =>\", a)\n",
    "    \n",
    "print(\"fin del if\")"
   ]
  },
  {
   "cell_type": "code",
   "execution_count": 4,
   "metadata": {},
   "outputs": [
    {
     "name": "stdout",
     "output_type": "stream",
     "text": [
      "y es menor que x\n"
     ]
    }
   ],
   "source": [
    "# if y if.. else en version corta o simplificada \n",
    "x = 50\n",
    "y = 30\n",
    "\n",
    "print(\"y es menor que x\") if x > y else print(\"x es mayor que y\")"
   ]
  },
  {
   "cell_type": "code",
   "execution_count": 6,
   "metadata": {},
   "outputs": [
    {
     "name": "stdout",
     "output_type": "stream",
     "text": [
      "1\n",
      "hola\n",
      "2\n",
      "hola\n",
      "3\n",
      "hola\n",
      "4\n",
      "hola\n",
      "5\n",
      "hola\n",
      "6\n",
      "hola\n",
      "7\n",
      "hola\n",
      "8\n",
      "hola\n",
      "9\n",
      "hola\n",
      "10\n",
      "hola\n",
      "fuera del while\n"
     ]
    }
   ],
   "source": [
    "i = 1\n",
    "while i <= 10:\n",
    "    print(i)\n",
    "    i += 1\n",
    "    print(\"hola\")\n",
    "print(\"fuera del while\")"
   ]
  },
  {
   "cell_type": "code",
   "execution_count": 7,
   "metadata": {},
   "outputs": [
    {
     "name": "stdout",
     "output_type": "stream",
     "text": [
      "\n",
      "+==================================+\n",
      "| 1-. Opcion 1                     |\n",
      "| 2-. Opcion 2                     |\n",
      "| 3-. Opcion 3                     |                                 |\n",
      "+==================================+\n",
      "\n",
      "¿Cual es la opcion que deseas?3\n"
     ]
    }
   ],
   "source": [
    "print(\n",
    "\"\"\"\n",
    "+==================================+\n",
    "| 1-. Opcion 1                     |\n",
    "| 2-. Opcion 2                     |\n",
    "| 3-. Opcion 3                     |                                 |\n",
    "+==================================+\n",
    "\"\"\")\n",
    "opcion = input(\"¿Cual es la opcion que deseas?\")"
   ]
  },
  {
   "cell_type": "code",
   "execution_count": 1,
   "metadata": {},
   "outputs": [
    {
     "name": "stdout",
     "output_type": "stream",
     "text": [
      "1\n",
      "2\n",
      "3\n",
      "4\n",
      "5\n",
      "6\n",
      "7\n",
      "8\n",
      "9\n"
     ]
    }
   ],
   "source": [
    "# si no se especifica un rango inicial por defaul empieza en cero\n",
    "# cuando se establece el limite o rango final siempre sera ese valor menos 1 \n",
    "for x in range (1, 10):\n",
    "    print (x)"
   ]
  },
  {
   "cell_type": "code",
   "execution_count": 3,
   "metadata": {},
   "outputs": [
    {
     "name": "stdout",
     "output_type": "stream",
     "text": [
      "1\n",
      "3\n",
      "5\n",
      "7\n",
      "9\n"
     ]
    }
   ],
   "source": [
    "# indicando un rango inicial y un rango final \n",
    "for x in range (1,10,2):\n",
    "    print (x)"
   ]
  },
  {
   "cell_type": "code",
   "execution_count": 5,
   "metadata": {},
   "outputs": [
    {
     "name": "stdout",
     "output_type": "stream",
     "text": [
      "naranja\n",
      "platano\n"
     ]
    }
   ],
   "source": [
    "# lista de valores \n",
    "frutas = [\"naranja\", \"platano\", \"sandia\"]\n",
    "numeros = [1, 5, 3, 8, 99]\n",
    "for x in frutas:\n",
    "    print(x)\n",
    "    if x ==\"platano\" :\n",
    "        break "
   ]
  },
  {
   "cell_type": "code",
   "execution_count": 10,
   "metadata": {},
   "outputs": [
    {
     "name": "stdout",
     "output_type": "stream",
     "text": [
      "¿Que tabla deseas multiplicar?5\n",
      "5 por 1 es igual a 5\n",
      "5 por 2 es igual a 10\n",
      "5 por 3 es igual a 15\n",
      "5 por 4 es igual a 20\n",
      "5 por 5 es igual a 25\n",
      "5 por 6 es igual a 30\n",
      "5 por 7 es igual a 35\n",
      "5 por 8 es igual a 40\n",
      "5 por 9 es igual a 45\n",
      "5 por 10 es igual a 50\n"
     ]
    }
   ],
   "source": [
    "valor = input(\"¿Que tabla deseas multiplicar?\")\n",
    "for i in range (1,11):\n",
    "    print (\"5 por\", i, \"es igual a\", 5*i)"
   ]
  },
  {
   "cell_type": "code",
   "execution_count": null,
   "metadata": {},
   "outputs": [],
   "source": []
  }
 ],
 "metadata": {
  "kernelspec": {
   "display_name": "Python 3",
   "language": "python",
   "name": "python3"
  },
  "language_info": {
   "codemirror_mode": {
    "name": "ipython",
    "version": 3
   },
   "file_extension": ".py",
   "mimetype": "text/x-python",
   "name": "python",
   "nbconvert_exporter": "python",
   "pygments_lexer": "ipython3",
   "version": "3.8.3"
  }
 },
 "nbformat": 4,
 "nbformat_minor": 4
}
