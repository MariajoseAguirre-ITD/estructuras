{
 "cells": [
  {
   "cell_type": "markdown",
   "metadata": {},
   "source": [
    "## AGUIRRE PARADA MARIAJOSE "
   ]
  },
  {
   "cell_type": "code",
   "execution_count": 1,
   "metadata": {},
   "outputs": [
    {
     "data": {
      "text/plain": [
       "True"
      ]
     },
     "execution_count": 1,
     "metadata": {},
     "output_type": "execute_result"
    }
   ],
   "source": [
    "#pueden ser comparadas usando el mismo conjunto de operadores que se emplean con los números.\n",
    "\"\"\"\n",
    "==\n",
    "!=\n",
    ">\n",
    ">=\n",
    "<\n",
    "<=\n",
    "\"\"\"\n",
    "\n",
    "# Ambas comparaciones dan True (verdadero) como resultado:\n",
    "\n",
    "'alfa' == 'alfa'\n",
    "'alfa' != 'Alfa'"
   ]
  },
  {
   "cell_type": "code",
   "execution_count": 2,
   "metadata": {},
   "outputs": [
    {
     "data": {
      "text/plain": [
       "True"
      ]
     },
     "execution_count": 2,
     "metadata": {},
     "output_type": "execute_result"
    }
   ],
   "source": [
    "#Cuando se comparan dos cadenas de diferentes longitudes y la más corta es idéntica a la más larga, \n",
    "#la cadena más larga se considera mayor.\n",
    "'alfa' < 'alfabeto'"
   ]
  },
  {
   "cell_type": "code",
   "execution_count": 3,
   "metadata": {},
   "outputs": [
    {
     "data": {
      "text/plain": [
       "True"
      ]
     },
     "execution_count": 3,
     "metadata": {},
     "output_type": "execute_result"
    }
   ],
   "source": [
    "#La comparación de cadenas siempre distingue entre mayúsculas y minúsculas \n",
    "#(las letras mayúsculas se consideran menores en comparación con las minúsculas). \"\"\"\n",
    "\n",
    "\n",
    "'beta' > 'Beta'"
   ]
  },
  {
   "cell_type": "code",
   "execution_count": null,
   "metadata": {},
   "outputs": [],
   "source": []
  }
 ],
 "metadata": {
  "kernelspec": {
   "display_name": "Python 3",
   "language": "python",
   "name": "python3"
  },
  "language_info": {
   "codemirror_mode": {
    "name": "ipython",
    "version": 3
   },
   "file_extension": ".py",
   "mimetype": "text/x-python",
   "name": "python",
   "nbconvert_exporter": "python",
   "pygments_lexer": "ipython3",
   "version": "3.8.3"
  }
 },
 "nbformat": 4,
 "nbformat_minor": 4
}
