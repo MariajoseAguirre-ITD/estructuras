{
 "cells": [
  {
   "cell_type": "markdown",
   "metadata": {},
   "source": [
    "## AGUIRRE PARADA MARIAJOSE "
   ]
  },
  {
   "cell_type": "code",
   "execution_count": 1,
   "metadata": {},
   "outputs": [
    {
     "data": {
      "text/plain": [
       "' \\nEste programa implementa (en una forma ligeramente simplificada) un algoritmo utilizado por los bancos europeos\\npara especificar los números de cuenta. El estándar llamado IBAN (Número de cuenta bancaria internacional) \\nproporciona un método simple y bastante confiable para validar los números de cuenta contra errores tipográficos simples \\nque pueden ocurrir durante la reescritura del número, por ejemplo, de documentos en papel, \\ncomo facturas o facturas en las computadoras.\\n\\n'"
      ]
     },
     "execution_count": 1,
     "metadata": {},
     "output_type": "execute_result"
    }
   ],
   "source": [
    "\"\"\" \n",
    "Este programa implementa (en una forma ligeramente simplificada) un algoritmo utilizado por los bancos europeos\n",
    "para especificar los números de cuenta. El estándar llamado IBAN (Número de cuenta bancaria internacional) \n",
    "proporciona un método simple y bastante confiable para validar los números de cuenta contra errores tipográficos simples \n",
    "que pueden ocurrir durante la reescritura del número, por ejemplo, de documentos en papel, \n",
    "como facturas o facturas en las computadoras.\n",
    "\n",
    "\"\"\"\n"
   ]
  },
  {
   "cell_type": "code",
   "execution_count": 2,
   "metadata": {},
   "outputs": [
    {
     "name": "stdout",
     "output_type": "stream",
     "text": [
      "Ingresa IBAN, por favor: GB78\n",
      "El IBAN ingresado es demasiado corto.\n"
     ]
    }
   ],
   "source": [
    "\"\"\"\n",
    "Línea 03: pide al usuario que ingrese el IBAN (el número puede contener espacios, ya que mejoran significativamente la legibilidad del número...\n",
    "Línea 04: ...pero remueve los espacios de inmediato).\n",
    "Línea 05: el IBAN ingresado debe constar solo de dígitos y letras, de lo contrario...\n",
    "Línea 06: ...muestra un mensaje.\n",
    "Línea 07: el IBAN no debe tener menos de 15 caracteres (esta es la variante más corta, utilizada en Noruega).\n",
    "Línea 08: si es más corto, se informa al usuario.\n",
    "Línea 09: además, el IBAN no puede tener más de 31 caracteres (esta es la variante más larga, utilizada en Malta).\n",
    "Línea 10: si es más largo, se le informa al usuario.\n",
    "Línea 11: se comienza con el procesamiento.\n",
    "Línea 12: se mueven los cuatro caracteres iniciales al final del número y se convierten todas las letras a mayúsculas (paso 02 del algoritmo).\n",
    "Línea 13: esta es la variable utilizada para completar el número, creada al reemplazar las letras con dígitos (de acuerdo con el paso 03 del algoritmo).\n",
    "Línea 14: iterar a través del IBAN.\n",
    "Línea 15: si el caracter es un digito...\n",
    "Línea 16: se copia.\n",
    "Línea 17: de lo contrario...\n",
    "Línea 18: ...conviértelo en dos dígitos (observa cómo se hace aquí).\n",
    "Línea 19: la forma convertida del IBAN está lista: ahora se convierte en un número entero.\n",
    "Línea 20: ¿el residuo de la división de iban2 entre 97 es igual a 1?\n",
    "Línea 21: si es así, entonces el número es correcto.\n",
    "Línea 22: de lo contrario...\n",
    "Línea 23: ...el número no es válido.\n",
    "\n",
    "\"\"\"\n",
    "# Validador IBAN\n",
    "\n",
    "# Datos de prueba:\n",
    "    # Inglés: GB72 HBZU 7006 7212 1253 00\n",
    "    # Francés: FR76 30003 03620 00020216907 50\n",
    "    # Alemán: DE02100100100152517108\n",
    "\n",
    "iban = input(\"Ingresa IBAN, por favor: \")\n",
    "iban = iban.replace(' ','')\n",
    "if not iban.isalnum():\n",
    "    print(\"Has introducido caracteres no válidos.\")\n",
    "elif len(iban) < 15:\n",
    "    print(\"El IBAN ingresado es demasiado corto.\")\n",
    "elif len(iban) > 31:\n",
    "    print(\"El IBAN ingresado es demasiado largo.\")\n",
    "else:\n",
    "    iban = (iban[4:] + iban[0:4]).upper()\n",
    "    iban2 = ''\n",
    "    for ch in iban:\n",
    "        if ch.isdigit():\n",
    "            iban2 += ch\n",
    "        else:\n",
    "            iban2 += str(10 + ord(ch) - ord('A'))\n",
    "    ibann = int(iban2)\n",
    "    if ibann % 97 == 1:\n",
    "        print(\"El IBAN ingresado es válido.\")\n",
    "    else:\n",
    "        print(\"El IBAN ingresado no es válido.\")"
   ]
  },
  {
   "cell_type": "code",
   "execution_count": null,
   "metadata": {},
   "outputs": [],
   "source": []
  }
 ],
 "metadata": {
  "kernelspec": {
   "display_name": "Python 3",
   "language": "python",
   "name": "python3"
  },
  "language_info": {
   "codemirror_mode": {
    "name": "ipython",
    "version": 3
   },
   "file_extension": ".py",
   "mimetype": "text/x-python",
   "name": "python",
   "nbconvert_exporter": "python",
   "pygments_lexer": "ipython3",
   "version": "3.8.3"
  }
 },
 "nbformat": 4,
 "nbformat_minor": 4
}
