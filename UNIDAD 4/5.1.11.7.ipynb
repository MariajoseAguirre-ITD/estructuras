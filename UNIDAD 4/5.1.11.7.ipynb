{
 "cells": [
  {
   "cell_type": "markdown",
   "metadata": {},
   "source": [
    "## AGUIRRE PARADA MARIAJOSE "
   ]
  },
  {
   "cell_type": "code",
   "execution_count": 1,
   "metadata": {},
   "outputs": [
    {
     "name": "stdout",
     "output_type": "stream",
     "text": [
      "Escribe un texto: Ten animals I slam in a net\n",
      "Es un palíndromo.\n"
     ]
    }
   ],
   "source": [
    "miString = input(\"Escribe un texto: \")\n",
    "# Se eliminan los espacios\n",
    "miString = miString.casefold() \n",
    "# Se convierte todo en minúsculas\n",
    "miString = miString.replace(\" \", \"\")    \n",
    " # El sentido del texto se invierte\n",
    "stringInv = reversed(miString) \n",
    "# Finalmente, se comprueba si es o no es un palíndromo\n",
    "if list(miString) == list(stringInv):   \n",
    "    print(\"Es un palíndromo.\")\n",
    "else:\n",
    "    print(\"No es un palíndromo.\")"
   ]
  },
  {
   "cell_type": "code",
   "execution_count": 4,
   "metadata": {},
   "outputs": [
    {
     "name": "stdout",
     "output_type": "stream",
     "text": [
      "Escribe un texto: Eleven animals I slam in a net\n",
      "No es un palíndromo.\n"
     ]
    }
   ],
   "source": [
    "miString = input(\"Escribe un texto: \")\n",
    "miString = miString.casefold()          \n",
    "miString = miString.replace(\" \", \"\")    \n",
    "\n",
    "stringInv = reversed(miString)         \n",
    "\n",
    "if list(miString) == list(stringInv):   \n",
    "    print(\"Es un palíndromo.\")\n",
    "else:\n",
    "    print(\"No es un palíndromo.\")"
   ]
  },
  {
   "cell_type": "code",
   "execution_count": null,
   "metadata": {},
   "outputs": [],
   "source": []
  }
 ],
 "metadata": {
  "kernelspec": {
   "display_name": "Python 3",
   "language": "python",
   "name": "python3"
  },
  "language_info": {
   "codemirror_mode": {
    "name": "ipython",
    "version": 3
   },
   "file_extension": ".py",
   "mimetype": "text/x-python",
   "name": "python",
   "nbconvert_exporter": "python",
   "pygments_lexer": "ipython3",
   "version": "3.8.3"
  }
 },
 "nbformat": 4,
 "nbformat_minor": 4
}
