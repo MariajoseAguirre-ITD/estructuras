{
 "cells": [
  {
   "cell_type": "markdown",
   "metadata": {},
   "source": [
    "## MARIAJOSE AGUIRRE PARADA"
   ]
  },
  {
   "cell_type": "code",
   "execution_count": 1,
   "metadata": {},
   "outputs": [
    {
     "name": "stdout",
     "output_type": "stream",
     "text": [
      "[   alfa   ]\n"
     ]
    }
   ],
   "source": [
    "# Se genera una copia de la cadena original, tratando de centrarla dentro de un campo.\n",
    "# El centrado se realiza realmente al agregar algunos espacios antes y después de la cadena. Es simple.\n",
    "\n",
    "# Demostración del método center()\n",
    "print('[' + 'alfa'.center(10) + ']')"
   ]
  },
  {
   "cell_type": "code",
   "execution_count": null,
   "metadata": {},
   "outputs": [],
   "source": []
  }
 ],
 "metadata": {
  "kernelspec": {
   "display_name": "Python 3",
   "language": "python",
   "name": "python3"
  },
  "language_info": {
   "codemirror_mode": {
    "name": "ipython",
    "version": 3
   },
   "file_extension": ".py",
   "mimetype": "text/x-python",
   "name": "python",
   "nbconvert_exporter": "python",
   "pygments_lexer": "ipython3",
   "version": "3.8.3"
  }
 },
 "nbformat": 4,
 "nbformat_minor": 4
}
