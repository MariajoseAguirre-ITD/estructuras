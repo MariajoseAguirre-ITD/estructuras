{
 "cells": [
  {
   "cell_type": "markdown",
   "metadata": {},
   "source": [
    "## AGUIRRE PARADA MARIAJOSE"
   ]
  },
  {
   "cell_type": "code",
   "execution_count": 1,
   "metadata": {},
   "outputs": [
    {
     "name": "stdout",
     "output_type": "stream",
     "text": [
      "101\n",
      "32\n"
     ]
    }
   ],
   "source": [
    "# Si deseas saber el valor del punto de código ASCII/UNICODE de un caracter específico, \n",
    "# puedes usar la función ord() (proveniente de ordinal).\n",
    "\n",
    "# Demostrando la función ord ()\n",
    "\n",
    "ch1 = 'e' \n",
    "ch2 = ' ' # espacio\n",
    "\n",
    "print(ord(ch1))\n",
    "print(ord(ch2))"
   ]
  },
  {
   "cell_type": "code",
   "execution_count": null,
   "metadata": {},
   "outputs": [],
   "source": []
  }
 ],
 "metadata": {
  "kernelspec": {
   "display_name": "Python 3",
   "language": "python",
   "name": "python3"
  },
  "language_info": {
   "codemirror_mode": {
    "name": "ipython",
    "version": 3
   },
   "file_extension": ".py",
   "mimetype": "text/x-python",
   "name": "python",
   "nbconvert_exporter": "python",
   "pygments_lexer": "ipython3",
   "version": "3.8.3"
  }
 },
 "nbformat": 4,
 "nbformat_minor": 4
}
