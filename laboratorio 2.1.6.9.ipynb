{
 "cells": [
  {
   "cell_type": "markdown",
   "metadata": {},
   "source": [
    "# Mariajose Aguirre Parada\n"
   ]
  },
  {
   "cell_type": "code",
   "execution_count": 1,
   "metadata": {},
   "outputs": [
    {
     "name": "stdout",
     "output_type": "stream",
     "text": [
      "Inserte el primer numero : 5\n",
      "Inserte el segundo numero: 2\n",
      "\n",
      "La resta es:  3.0\n",
      "La suma es:  7.0\n",
      "La multiplicacion es:  10.0\n",
      "\n",
      "¡Eso es todo, amigos!\n"
     ]
    }
   ],
   "source": [
    "# OPERACION ARITMETICA\n",
    "y = float(input(\"Inserte el primer numero : \"))\n",
    "x = float(input(\"Inserte el segundo numero: \"))\n",
    "\n",
    "resta = y - x\n",
    "suma = y + x\n",
    "multiplicacion = y * x\n",
    "\n",
    "\n",
    "print(\"\\nLa resta es: \", resta)\n",
    "print(\"La suma es: \", suma)\n",
    "print(\"La multiplicacion es: \", multiplicacion)\n",
    "\n",
    "\n",
    "\n",
    "print(\"\\n¡Eso es todo, amigos!\")"
   ]
  },
  {
   "cell_type": "code",
   "execution_count": null,
   "metadata": {},
   "outputs": [],
   "source": []
  }
 ],
 "metadata": {
  "kernelspec": {
   "display_name": "Python 3",
   "language": "python",
   "name": "python3"
  },
  "language_info": {
   "codemirror_mode": {
    "name": "ipython",
    "version": 3
   },
   "file_extension": ".py",
   "mimetype": "text/x-python",
   "name": "python",
   "nbconvert_exporter": "python",
   "pygments_lexer": "ipython3",
   "version": "3.8.3"
  }
 },
 "nbformat": 4,
 "nbformat_minor": 4
}
