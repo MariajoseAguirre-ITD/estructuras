{
 "cells": [
  {
   "cell_type": "markdown",
   "metadata": {},
   "source": [
    "## AGUIRRE PARADA MARIAJOSE "
   ]
  },
  {
   "cell_type": "code",
   "execution_count": 1,
   "metadata": {},
   "outputs": [
    {
     "name": "stdout",
     "output_type": "stream",
     "text": [
      "1969 2 ->OK\n",
      "2000 2 ->OK\n",
      "2018 1 ->OK\n",
      "1985 11 ->OK\n"
     ]
    }
   ],
   "source": [
    "def isYearLeap(year):\n",
    "    if year%4 != 0:\n",
    "        return(False)\n",
    "    elif year%100 != 0:\n",
    "        return(True)\n",
    "    elif year%400 != 0:\n",
    "        return(False)\n",
    "    else:\n",
    "        return(True)\n",
    "\n",
    "def daysInMonth(year, month):\n",
    "    monthDays = [31, 28, 31, 30, 31, 30, 31, 31, 30, 31, 30, 31]\n",
    "    # Este if solo se activa si la funcion isYearLeap es True\n",
    "    if isYearLeap(year) and month ==2:\n",
    "            return 29\n",
    "    return monthDays[month-1]\n",
    "\n",
    "testYears = [1969, 2000, 2018, 1985]\n",
    "testMonths = [2, 2, 1, 11]\n",
    "testResults = [28, 29, 31, 30]\n",
    "for i in range(len(testYears)):\n",
    "\tyr = testYears[i]\n",
    "\tmo = testMonths[i]\n",
    "\tprint(yr, mo, \"->\", end=\"\")\n",
    "\tresult = daysInMonth(yr, mo)\n",
    "\tif result == testResults[i]:\n",
    "\t\tprint(\"OK\")\n",
    "\telse:\n",
    "\t\tprint(\"Error\")"
   ]
  },
  {
   "cell_type": "code",
   "execution_count": null,
   "metadata": {},
   "outputs": [],
   "source": []
  }
 ],
 "metadata": {
  "kernelspec": {
   "display_name": "Python 3",
   "language": "python",
   "name": "python3"
  },
  "language_info": {
   "codemirror_mode": {
    "name": "ipython",
    "version": 3
   },
   "file_extension": ".py",
   "mimetype": "text/x-python",
   "name": "python",
   "nbconvert_exporter": "python",
   "pygments_lexer": "ipython3",
   "version": "3.8.3"
  }
 },
 "nbformat": 4,
 "nbformat_minor": 4
}
