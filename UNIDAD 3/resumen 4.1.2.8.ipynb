{
 "cells": [
  {
   "cell_type": "markdown",
   "metadata": {},
   "source": [
    "## MARIAJOSE AGUIRRE PARADA "
   ]
  },
  {
   "cell_type": "code",
   "execution_count": 1,
   "metadata": {},
   "outputs": [
    {
     "name": "stdout",
     "output_type": "stream",
     "text": [
      "Hola, Greg\n"
     ]
    }
   ],
   "source": [
    "# Función con un parametro\n",
    "def hola(nombre):\n",
    "    print(\"Hola,\", nombre)\n",
    "\n",
    "hola(\"Greg\")"
   ]
  },
  {
   "cell_type": "code",
   "execution_count": 2,
   "metadata": {},
   "outputs": [
    {
     "name": "stdout",
     "output_type": "stream",
     "text": [
      "Hola, Felipe\n",
      "Hola, Sebastián\n"
     ]
    }
   ],
   "source": [
    "# Función con dos parámetros\n",
    "def holaTodos(nombre1, nombre2):\n",
    "    print(\"Hola,\", nombre2)\n",
    "    print(\"Hola,\", nombre1)\n",
    "\n",
    "holaTodos(\"Sebastián\", \"Felipe\")"
   ]
  },
  {
   "cell_type": "code",
   "execution_count": 3,
   "metadata": {},
   "outputs": [
    {
     "name": "stdout",
     "output_type": "stream",
     "text": [
      "Calle: durango\n",
      "Código Postal: 34166\n",
      "Ciudad: nuevo leon\n",
      "Tu dirección es: durango nuevo leon 34166\n"
     ]
    }
   ],
   "source": [
    "# Función con tres parámetros \n",
    "def direccion(calle, ciudad, codigoPostal):\n",
    "    print(\"Tu dirección es:\", calle, ciudad, codigoPostal)\n",
    "\n",
    "c = input(\"Calle: \")\n",
    "cp = input(\"Código Postal: \")\n",
    "cd = input(\"Ciudad: \")\n",
    "\n",
    "direccion(c, cd, cp)\n"
   ]
  },
  {
   "cell_type": "code",
   "execution_count": 5,
   "metadata": {},
   "outputs": [
    {
     "name": "stdout",
     "output_type": "stream",
     "text": [
      "3\n",
      "-3\n",
      "3\n",
      "3\n",
      "3\n",
      "3\n"
     ]
    }
   ],
   "source": [
    "# Pasar argumentos a una función\n",
    "# Ejemplo 1: Orden de los parámetros relevante\n",
    "def resta(a, b):\n",
    "    print(a - b)\n",
    "\n",
    "resta(5, 2)    # salida: 3\n",
    "resta(2, 5)    # salida: -3\n",
    "\n",
    "# Ejemplo 2: orden de los argumentos irrelevantes\n",
    "def resta(a, b):\n",
    "    print(a - b)\n",
    "\n",
    "resta(a=5, b=2)    # salida: 3\n",
    "resta(b=2, a=5)    # salida: 3\n",
    "\n",
    "\n",
    "# Ex. 3: Mezcla de argumentos posicionales y con palabras clave\n",
    "def resta(a, b):\n",
    "    print(a - b)\n",
    "\n",
    "resta(5, b=2)    # salida: 4\n",
    "resta(5, 2)    # salida: 3"
   ]
  },
  {
   "cell_type": "code",
   "execution_count": 6,
   "metadata": {},
   "outputs": [
    {
     "name": "stdout",
     "output_type": "stream",
     "text": [
      "Andy Pérez\n",
      "Bety Rodríguez\n"
     ]
    }
   ],
   "source": [
    "# Asignar valores predefinidos a los argumentos\n",
    "def nombre(nombre, apellido=\"Pérez\"):\n",
    "    print(nombre, apellido)\n",
    "\n",
    "nombre(\"Andy\")    # salida: Andy Pérez\n",
    "nombre(\"Bety\", \"Rodríguez\")    # salida: Bety Johnson (el argumento de palabra clave es reemplazado por \" Rodríguez \")"
   ]
  },
  {
   "cell_type": "markdown",
   "metadata": {},
   "source": [
    "## EJERCICIO 1"
   ]
  },
  {
   "cell_type": "code",
   "execution_count": 7,
   "metadata": {},
   "outputs": [
    {
     "name": "stdout",
     "output_type": "stream",
     "text": [
      "Mi nombre es Bond. James Bond.\n"
     ]
    }
   ],
   "source": [
    "def intro(a=\"James Bond\", b=\"Bond\"):\n",
    "    print(\"Mi nombre es\", b + \".\", a + \".\")\n",
    "\n",
    "intro()"
   ]
  },
  {
   "cell_type": "markdown",
   "metadata": {},
   "source": [
    "## EJERCICIO 2"
   ]
  },
  {
   "cell_type": "code",
   "execution_count": 8,
   "metadata": {},
   "outputs": [
    {
     "name": "stdout",
     "output_type": "stream",
     "text": [
      "Mi nombre es Sergio López. James Bond.\n"
     ]
    }
   ],
   "source": [
    "def intro(a=\"James Bond\", b=\"Bond\"):\n",
    "    print(\"Mi nombre es\", b + \".\", a + \".\")\n",
    "\n",
    "intro(b=\"Sergio López\")"
   ]
  },
  {
   "cell_type": "markdown",
   "metadata": {},
   "source": [
    "## EJERCICIO 3"
   ]
  },
  {
   "cell_type": "code",
   "execution_count": 9,
   "metadata": {},
   "outputs": [
    {
     "name": "stdout",
     "output_type": "stream",
     "text": [
      "Mi nombre es Bond. Susan.\n"
     ]
    }
   ],
   "source": [
    "def intro(a, b=\"Bond\"):\n",
    "    print(\"Mi nombre es\", b + \".\", a + \".\")\n",
    "\n",
    "intro(\"Susan\")"
   ]
  },
  {
   "cell_type": "markdown",
   "metadata": {},
   "source": [
    "## EJERCICIO 4"
   ]
  },
  {
   "cell_type": "code",
   "execution_count": 10,
   "metadata": {},
   "outputs": [
    {
     "ename": "SyntaxError",
     "evalue": "non-default argument follows default argument (<ipython-input-10-f64550415488>, line 1)",
     "output_type": "error",
     "traceback": [
      "\u001b[1;36m  File \u001b[1;32m\"<ipython-input-10-f64550415488>\"\u001b[1;36m, line \u001b[1;32m1\u001b[0m\n\u001b[1;33m    def suma(a, b=2, c):\u001b[0m\n\u001b[1;37m             ^\u001b[0m\n\u001b[1;31mSyntaxError\u001b[0m\u001b[1;31m:\u001b[0m non-default argument follows default argument\n"
     ]
    }
   ],
   "source": [
    "def suma(a, b=2, c):\n",
    "    print(a + b + c)\n",
    "\n",
    "suma(a=1, c=3)"
   ]
  },
  {
   "cell_type": "code",
   "execution_count": null,
   "metadata": {},
   "outputs": [],
   "source": []
  }
 ],
 "metadata": {
  "kernelspec": {
   "display_name": "Python 3",
   "language": "python",
   "name": "python3"
  },
  "language_info": {
   "codemirror_mode": {
    "name": "ipython",
    "version": 3
   },
   "file_extension": ".py",
   "mimetype": "text/x-python",
   "name": "python",
   "nbconvert_exporter": "python",
   "pygments_lexer": "ipython3",
   "version": "3.8.3"
  }
 },
 "nbformat": 4,
 "nbformat_minor": 4
}
