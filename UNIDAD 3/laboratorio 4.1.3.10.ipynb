{
 "cells": [
  {
   "cell_type": "markdown",
   "metadata": {},
   "source": [
    "## AGUIRRE PARADA MARIAJOSE "
   ]
  },
  {
   "cell_type": "code",
   "execution_count": 3,
   "metadata": {},
   "outputs": [
    {
     "name": "stdout",
     "output_type": "stream",
     "text": [
      "81.10847701149424\n",
      "27.672303921568624\n",
      "26.1349537037037\n",
      "3.9665191118605962\n",
      "7.737321820175438\n",
      "9.22410130718954\n"
     ]
    }
   ],
   "source": [
    "def l100kmtompg(liters):\n",
    "    miles = 100 * 1000 / 1609.344   # 62.1371\n",
    "    gallons = liters / 3.785411784\n",
    "    return miles / gallons\n",
    "\n",
    "def mpgtol100km(miles):\n",
    "    liters = 3.785411784\n",
    "    kilometers = miles * 1609.344 / 1000\n",
    "    km100 = kilometers / 100\n",
    "    return liters / km100\n",
    "\n",
    "print(l100kmtompg(2.9))\n",
    "print(l100kmtompg(8.5))\n",
    "print(l100kmtompg(9.))\n",
    "print(mpgtol100km(59.3))\n",
    "print(mpgtol100km(30.4))\n",
    "print(mpgtol100km(25.5))"
   ]
  },
  {
   "cell_type": "code",
   "execution_count": null,
   "metadata": {},
   "outputs": [],
   "source": []
  }
 ],
 "metadata": {
  "kernelspec": {
   "display_name": "Python 3",
   "language": "python",
   "name": "python3"
  },
  "language_info": {
   "codemirror_mode": {
    "name": "ipython",
    "version": 3
   },
   "file_extension": ".py",
   "mimetype": "text/x-python",
   "name": "python",
   "nbconvert_exporter": "python",
   "pygments_lexer": "ipython3",
   "version": "3.8.3"
  }
 },
 "nbformat": 4,
 "nbformat_minor": 4
}
