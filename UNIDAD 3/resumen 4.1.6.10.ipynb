{
 "cells": [
  {
   "cell_type": "markdown",
   "metadata": {},
   "source": [
    "## AGUIRRE PARADA MARIAJOSE "
   ]
  },
  {
   "cell_type": "code",
   "execution_count": 1,
   "metadata": {},
   "outputs": [
    {
     "name": "stdout",
     "output_type": "stream",
     "text": [
      "(1, 2, True, 'una cadena', (3, 4), [5, 6], None)\n",
      "[1, 2, True, 'una cadena', (3, 4), [5, 6], None]\n"
     ]
    }
   ],
   "source": [
    "# Las Tuplas son colecciones de datos ordenadas e inmutables. Se puede pensar en ellas como listas inmutables. \n",
    "# Se definen con paréntesis:\n",
    "\n",
    "miTupla = (1, 2, True, \"una cadena\", (3, 4), [5, 6], None)\n",
    "print(miTupla)\n",
    "\n",
    "miLista = [1, 2, True, \"una cadena\", (3, 4), [5, 6], None]\n",
    "print(miLista)"
   ]
  },
  {
   "cell_type": "code",
   "execution_count": 2,
   "metadata": {},
   "outputs": [
    {
     "name": "stdout",
     "output_type": "stream",
     "text": [
      "<class 'tuple'>\n"
     ]
    }
   ],
   "source": [
    "# Se puede crear una tupla vacía de la siguiente manera:\n",
    "\n",
    "tuplaVacia = ()\n",
    "print(type(tuplaVacia))    # salida: <class 'tuple'>"
   ]
  },
  {
   "cell_type": "code",
   "execution_count": 3,
   "metadata": {},
   "outputs": [],
   "source": [
    "# La tupla de un solo elemento se define de la siguiente manera\n",
    "\n",
    "tuplaUnElemento = (\"uno\", )    # paréntesis y coma\n",
    "tuplaUnElemento2 = \"uno\",     # sin paréntesis, solo la coma"
   ]
  },
  {
   "cell_type": "code",
   "execution_count": 4,
   "metadata": {},
   "outputs": [
    {
     "name": "stdout",
     "output_type": "stream",
     "text": [
      "<class 'tuple'>\n",
      "<class 'int'>\n"
     ]
    }
   ],
   "source": [
    "# Si se elimina la coma, Python creará una variable no una tupla:\n",
    "\n",
    "miTup1 = 1, \n",
    "print(type(miTup1))    # salida: <class 'tuple'>\n",
    "\n",
    "miTup2 = 1\n",
    "print(type(miTup2))    # salida: <class 'int'>"
   ]
  },
  {
   "cell_type": "code",
   "execution_count": 5,
   "metadata": {},
   "outputs": [
    {
     "name": "stdout",
     "output_type": "stream",
     "text": [
      "[3, 4]\n"
     ]
    }
   ],
   "source": [
    "# Se pueden acceder los elementos de la tupla al indexarlos:\n",
    "\n",
    "miTupla = (1, 2.0, \"cadena\", [3, 4], (5, ), True)\n",
    "print(miTupla[3])    # salida: [3, 4]"
   ]
  },
  {
   "cell_type": "code",
   "execution_count": 6,
   "metadata": {},
   "outputs": [
    {
     "ename": "TypeError",
     "evalue": "'tuple' object does not support item assignment",
     "output_type": "error",
     "traceback": [
      "\u001b[1;31m---------------------------------------------------------------------------\u001b[0m",
      "\u001b[1;31mTypeError\u001b[0m                                 Traceback (most recent call last)",
      "\u001b[1;32m<ipython-input-6-7c3e52670968>\u001b[0m in \u001b[0;36m<module>\u001b[1;34m\u001b[0m\n\u001b[0;32m      3\u001b[0m \u001b[1;33m\u001b[0m\u001b[0m\n\u001b[0;32m      4\u001b[0m \u001b[0mmiTupla\u001b[0m \u001b[1;33m=\u001b[0m \u001b[1;33m(\u001b[0m\u001b[1;36m1\u001b[0m\u001b[1;33m,\u001b[0m \u001b[1;36m2.0\u001b[0m\u001b[1;33m,\u001b[0m \u001b[1;34m\"cadena\"\u001b[0m\u001b[1;33m,\u001b[0m \u001b[1;33m[\u001b[0m\u001b[1;36m3\u001b[0m\u001b[1;33m,\u001b[0m \u001b[1;36m4\u001b[0m\u001b[1;33m]\u001b[0m\u001b[1;33m,\u001b[0m \u001b[1;33m(\u001b[0m\u001b[1;36m5\u001b[0m\u001b[1;33m,\u001b[0m \u001b[1;33m)\u001b[0m\u001b[1;33m,\u001b[0m \u001b[1;32mTrue\u001b[0m\u001b[1;33m)\u001b[0m\u001b[1;33m\u001b[0m\u001b[1;33m\u001b[0m\u001b[0m\n\u001b[1;32m----> 5\u001b[1;33m \u001b[0mmiTupla\u001b[0m\u001b[1;33m[\u001b[0m\u001b[1;36m2\u001b[0m\u001b[1;33m]\u001b[0m \u001b[1;33m=\u001b[0m \u001b[1;34m\"guitarra\"\u001b[0m    \u001b[1;31m# se levanta una excepción TypeError\u001b[0m\u001b[1;33m\u001b[0m\u001b[1;33m\u001b[0m\u001b[0m\n\u001b[0m",
      "\u001b[1;31mTypeError\u001b[0m: 'tuple' object does not support item assignment"
     ]
    }
   ],
   "source": [
    "# Las tuplas son inmutables, lo que significa que no se puede agregar, modificar, cambiar o quitar elementos.\n",
    "# El siguiente fragmento de código provocará una excepción:\n",
    "\n",
    "miTupla = (1, 2.0, \"cadena\", [3, 4], (5, ), True)\n",
    "miTupla[2] = \"guitarra\"    # se levanta una excepción TypeError"
   ]
  },
  {
   "cell_type": "code",
   "execution_count": 7,
   "metadata": {},
   "outputs": [
    {
     "ename": "NameError",
     "evalue": "name 'miTupla' is not defined",
     "output_type": "error",
     "traceback": [
      "\u001b[1;31m---------------------------------------------------------------------------\u001b[0m",
      "\u001b[1;31mNameError\u001b[0m                                 Traceback (most recent call last)",
      "\u001b[1;32m<ipython-input-7-e7357c73df7b>\u001b[0m in \u001b[0;36m<module>\u001b[1;34m\u001b[0m\n\u001b[0;32m      3\u001b[0m \u001b[0mmiTupla\u001b[0m \u001b[1;33m=\u001b[0m \u001b[1;36m1\u001b[0m\u001b[1;33m,\u001b[0m \u001b[1;36m2\u001b[0m\u001b[1;33m,\u001b[0m \u001b[1;36m3\u001b[0m\u001b[1;33m,\u001b[0m\u001b[1;33m\u001b[0m\u001b[1;33m\u001b[0m\u001b[0m\n\u001b[0;32m      4\u001b[0m \u001b[1;32mdel\u001b[0m \u001b[0mmiTupla\u001b[0m\u001b[1;33m\u001b[0m\u001b[1;33m\u001b[0m\u001b[0m\n\u001b[1;32m----> 5\u001b[1;33m \u001b[0mprint\u001b[0m\u001b[1;33m(\u001b[0m\u001b[0mmiTupla\u001b[0m\u001b[1;33m)\u001b[0m    \u001b[1;31m# NameError: name 'miTupla' is not defined\u001b[0m\u001b[1;33m\u001b[0m\u001b[1;33m\u001b[0m\u001b[0m\n\u001b[0m",
      "\u001b[1;31mNameError\u001b[0m: name 'miTupla' is not defined"
     ]
    }
   ],
   "source": [
    "# Sin embargo, se puede eliminar la tupla completa:\n",
    "\n",
    "miTupla = 1, 2, 3, \n",
    "del miTupla\n",
    "print(miTupla)    # NameError: name 'miTupla' is not defined"
   ]
  },
  {
   "cell_type": "markdown",
   "metadata": {},
   "source": [
    "### EJEMPLO 1"
   ]
  },
  {
   "cell_type": "code",
   "execution_count": 8,
   "metadata": {},
   "outputs": [
    {
     "name": "stdout",
     "output_type": "stream",
     "text": [
      "1\n",
      "2\n",
      "3\n"
     ]
    }
   ],
   "source": [
    "# Ejemplo 1\n",
    "t1 = (1, 2, 3)\n",
    "for elem in t1:\n",
    "    print(elem)"
   ]
  },
  {
   "cell_type": "markdown",
   "metadata": {},
   "source": [
    "### EJEMPLO 2"
   ]
  },
  {
   "cell_type": "code",
   "execution_count": 9,
   "metadata": {},
   "outputs": [
    {
     "name": "stdout",
     "output_type": "stream",
     "text": [
      "False\n",
      "True\n"
     ]
    }
   ],
   "source": [
    "# Ejemplo 2\n",
    "t2 = (1, 2, 3, 4)\n",
    "print(5 in t2)\n",
    "print(5 not in t2)"
   ]
  },
  {
   "cell_type": "markdown",
   "metadata": {},
   "source": [
    "### EJEMPLO 3"
   ]
  },
  {
   "cell_type": "code",
   "execution_count": 10,
   "metadata": {},
   "outputs": [
    {
     "name": "stdout",
     "output_type": "stream",
     "text": [
      "4\n"
     ]
    }
   ],
   "source": [
    "# Ejemplo 3\n",
    "t3 = (1, 2, 3, 5)\n",
    "print(len(t3))"
   ]
  },
  {
   "cell_type": "markdown",
   "metadata": {},
   "source": [
    "### EJEMPLO 4"
   ]
  },
  {
   "cell_type": "code",
   "execution_count": 11,
   "metadata": {},
   "outputs": [
    {
     "name": "stdout",
     "output_type": "stream",
     "text": [
      "(1, 2, 3, 1, 2, 3, 4)\n",
      "(1, 2, 3, 5, 1, 2, 3, 5)\n"
     ]
    }
   ],
   "source": [
    "# Ejemplo 4\n",
    "t4 = t1 + t2\n",
    "t5 = t3 * 2\n",
    "\n",
    "print(t4)\n",
    "print(t5)"
   ]
  },
  {
   "cell_type": "code",
   "execution_count": 12,
   "metadata": {},
   "outputs": [
    {
     "name": "stdout",
     "output_type": "stream",
     "text": [
      "(1, 2, 'cadena')\n",
      "[2, 4, 6]\n",
      "<class 'list'>\n",
      "(2, 4, 6)\n",
      "<class 'tuple'>\n"
     ]
    }
   ],
   "source": [
    "# También se puede crear una tupla utilizando la función integrada de Python tuple(). \n",
    "# Esto es particularmente útil cuando se desea convertir un iterable\n",
    "# (por ejemplo, una lista, rango, cadena, etcétera) en una tupla:\n",
    "\n",
    "miTup = tuple((1, 2, \"cadena\"))\n",
    "print(miTup)\n",
    "\n",
    "lst = [2, 4, 6]\n",
    "print(lst)    # salida: [2, 4, 6]\n",
    "print(type(lst))    # salida: <class 'list'>\n",
    "tup = tuple(lst)\n",
    "print(tup)    # outputs: (2, 4, 6)\n",
    "print(type(tup))    # salida: <class 'tuple'>"
   ]
  },
  {
   "cell_type": "code",
   "execution_count": null,
   "metadata": {},
   "outputs": [],
   "source": []
  }
 ],
 "metadata": {
  "kernelspec": {
   "display_name": "Python 3",
   "language": "python",
   "name": "python3"
  },
  "language_info": {
   "codemirror_mode": {
    "name": "ipython",
    "version": 3
   },
   "file_extension": ".py",
   "mimetype": "text/x-python",
   "name": "python",
   "nbconvert_exporter": "python",
   "pygments_lexer": "ipython3",
   "version": "3.8.3"
  }
 },
 "nbformat": 4,
 "nbformat_minor": 4
}
