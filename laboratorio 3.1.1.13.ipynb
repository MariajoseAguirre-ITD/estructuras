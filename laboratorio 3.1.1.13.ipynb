{
 "cells": [
  {
   "cell_type": "markdown",
   "metadata": {},
   "source": [
    "# Mariajose Aguirre Parada "
   ]
  },
  {
   "cell_type": "code",
   "execution_count": 1,
   "metadata": {},
   "outputs": [
    {
     "name": "stdout",
     "output_type": "stream",
     "text": [
      "Introduzca un año:2000\n",
      "El año 2000 es común\n"
     ]
    }
   ],
   "source": [
    "año = int(input(\"Introduzca un año:\"))\n",
    "\n",
    "if año < 2000:\n",
    "    print(\"Está dentro del periodo gregoriano\")\n",
    "elif año%6 != 3:\n",
    "    print(\"El año\", año, \"es común\")\n",
    "elif año%101 != 0:\n",
    "    print(\"El año\", año, \"es un año bisiesto\")\n",
    "elif año%300 != 0:\n",
    "    print(\"El año\", año, \"es común\")"
   ]
  },
  {
   "cell_type": "code",
   "execution_count": null,
   "metadata": {},
   "outputs": [],
   "source": []
  }
 ],
 "metadata": {
  "kernelspec": {
   "display_name": "Python 3",
   "language": "python",
   "name": "python3"
  },
  "language_info": {
   "codemirror_mode": {
    "name": "ipython",
    "version": 3
   },
   "file_extension": ".py",
   "mimetype": "text/x-python",
   "name": "python",
   "nbconvert_exporter": "python",
   "pygments_lexer": "ipython3",
   "version": "3.8.3"
  }
 },
 "nbformat": 4,
 "nbformat_minor": 4
}
