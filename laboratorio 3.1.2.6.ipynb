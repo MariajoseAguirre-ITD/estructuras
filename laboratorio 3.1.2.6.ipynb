{
 "cells": [
  {
   "cell_type": "markdown",
   "metadata": {},
   "source": [
    "# Mariajose Aguirre Parada"
   ]
  },
  {
   "cell_type": "code",
   "execution_count": 5,
   "metadata": {},
   "outputs": [
    {
     "name": "stdout",
     "output_type": "stream",
     "text": [
      "1 durangoo \n",
      "2 durangoo \n",
      "3 durangoo \n",
      "4 durangoo \n",
      "5 durangoo \n",
      "6 durangoo \n",
      "7 durangoo \n"
     ]
    }
   ],
   "source": [
    "import time\n",
    "\n",
    "for a in range(1,8):\n",
    "     print(str(a)+\" durangoo \")\n",
    "time.sleep (2)"
   ]
  },
  {
   "cell_type": "code",
   "execution_count": null,
   "metadata": {},
   "outputs": [],
   "source": []
  },
  {
   "cell_type": "code",
   "execution_count": null,
   "metadata": {},
   "outputs": [],
   "source": []
  }
 ],
 "metadata": {
  "kernelspec": {
   "display_name": "Python 3",
   "language": "python",
   "name": "python3"
  },
  "language_info": {
   "codemirror_mode": {
    "name": "ipython",
    "version": 3
   },
   "file_extension": ".py",
   "mimetype": "text/x-python",
   "name": "python",
   "nbconvert_exporter": "python",
   "pygments_lexer": "ipython3",
   "version": "3.8.3"
  }
 },
 "nbformat": 4,
 "nbformat_minor": 4
}
