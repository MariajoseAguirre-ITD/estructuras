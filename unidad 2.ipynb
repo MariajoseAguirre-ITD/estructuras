{
 "cells": [
  {
   "cell_type": "markdown",
   "metadata": {},
   "source": [
    "## Estructuras y Organizacion de Datos\n",
    "### Unidad 2\n",
    "#### Mariajose Aguirre Parada "
   ]
  },
  {
   "cell_type": "markdown",
   "metadata": {},
   "source": [
    "# manejo de lostas en Python"
   ]
  },
  {
   "cell_type": "code",
   "execution_count": 2,
   "metadata": {},
   "outputs": [
    {
     "name": "stdout",
     "output_type": "stream",
     "text": [
      "['Futbol', 'Natacion', 'Tiro con arco', 'Box']\n"
     ]
    }
   ],
   "source": [
    "deportes = [\"Futbol\", \"Natacion\", \"Tiro con arco\", \"Box\",]\n",
    "print(deportes)"
   ]
  },
  {
   "cell_type": "code",
   "execution_count": 3,
   "metadata": {},
   "outputs": [
    {
     "name": "stdout",
     "output_type": "stream",
     "text": [
      "Natacion\n"
     ]
    }
   ],
   "source": [
    "# Acceder a una posicion especifica dentro de la lista \n",
    "print(deportes[1])"
   ]
  },
  {
   "cell_type": "code",
   "execution_count": 4,
   "metadata": {},
   "outputs": [
    {
     "name": "stdout",
     "output_type": "stream",
     "text": [
      "['Futbol Americano', 'Natacion', 'Tiro con arco', 'Box']\n"
     ]
    }
   ],
   "source": [
    "# Modificar un valor dentro de la lista \n",
    "deportes[0] = \"Futbol Americano\"\n",
    "print(deportes)\n"
   ]
  },
  {
   "cell_type": "code",
   "execution_count": 6,
   "metadata": {},
   "outputs": [
    {
     "name": "stdout",
     "output_type": "stream",
     "text": [
      "La longitud de la lista de deportes es 4\n"
     ]
    }
   ],
   "source": [
    "print(\"La longitud de la lista de deportes es\", len(deportes))"
   ]
  },
  {
   "cell_type": "code",
   "execution_count": null,
   "metadata": {},
   "outputs": [],
   "source": [
    "del deportes[0]"
   ]
  },
  {
   "cell_type": "code",
   "execution_count": 7,
   "metadata": {},
   "outputs": [
    {
     "name": "stdout",
     "output_type": "stream",
     "text": [
      "['Futbol Americano', 'Natacion', 'Tiro con arco', 'Box']\n"
     ]
    }
   ],
   "source": [
    "print(deportes)"
   ]
  },
  {
   "cell_type": "code",
   "execution_count": 9,
   "metadata": {},
   "outputs": [
    {
     "name": "stdout",
     "output_type": "stream",
     "text": [
      "La longitud de la lista de deportes es 4\n"
     ]
    }
   ],
   "source": [
    "print(\"La longitud de la lista de deportes es\", len(deportes))"
   ]
  },
  {
   "cell_type": "code",
   "execution_count": 10,
   "metadata": {},
   "outputs": [
    {
     "name": "stdout",
     "output_type": "stream",
     "text": [
      "Tiro con arco\n"
     ]
    }
   ],
   "source": [
    "# Se puede utilizar valores negativos en el indice\n",
    "# para hacer una lectura de derecha a izquierda \n",
    "# empezando desde -1 que seria el ultimo valor de la lista \n",
    "print(deportes[-2])"
   ]
  },
  {
   "cell_type": "code",
   "execution_count": 14,
   "metadata": {},
   "outputs": [
    {
     "name": "stdout",
     "output_type": "stream",
     "text": [
      "Ingrese el valor a sustituir: 15\n",
      "4\n",
      "[1, 2, 15, 4]\n"
     ]
    }
   ],
   "source": [
    "listaSombrero = [1, 2, 3, 4, 5] # Esta en una lista existente de numeros ocultos en el sombrero. \n",
    "# Paso 1: escribe una linea de codigo que solicite al usuario\n",
    "# para reemplazar el numero de en medio con un numero entero ingresado por el usuario \n",
    "listaSombrero[2] = int(input(\"Ingrese el valor a sustituir: \"))\n",
    "\n",
    "# paso 2: escribe aqui una linea de codigo que elimine el ultimo elemento de la lista \n",
    "del listaSombrero[4]\n",
    "\n",
    "# paso 3: escribe aqui una linea de codigo que imprima la longitud de la lista existente\n",
    "print (len(listaSombrero))\n",
    "print(listaSombrero)"
   ]
  },
  {
   "cell_type": "code",
   "execution_count": 15,
   "metadata": {},
   "outputs": [
    {
     "name": "stdout",
     "output_type": "stream",
     "text": [
      "['Futbol Americano', 'Natacion', 'Tiro con arco', 'Box']\n",
      "['Futbol Americano', 'Natacion', 'Tiro con arco', 'Box', 'Golf']\n"
     ]
    }
   ],
   "source": [
    "# Agregar el elemento a la lista\n",
    "# metodo APPEND lo agrega al final de la lista \n",
    "# metodo INSERERT lo agrega en la posicion especificada \n",
    "print(deportes)\n",
    "deportes.append(\"Golf\")\n",
    "print(deportes)"
   ]
  },
  {
   "cell_type": "code",
   "execution_count": 3,
   "metadata": {},
   "outputs": [
    {
     "ename": "NameError",
     "evalue": "name 'deportes' is not defined",
     "output_type": "error",
     "traceback": [
      "\u001b[1;31m---------------------------------------------------------------------------\u001b[0m",
      "\u001b[1;31mNameError\u001b[0m                                 Traceback (most recent call last)",
      "\u001b[1;32m<ipython-input-3-a5d0cddfdac2>\u001b[0m in \u001b[0;36m<module>\u001b[1;34m\u001b[0m\n\u001b[0;32m      1\u001b[0m \u001b[1;31m# No es posible acceder a un elemento de la lista con un índice que no existe\u001b[0m\u001b[1;33m\u001b[0m\u001b[1;33m\u001b[0m\u001b[1;33m\u001b[0m\u001b[0m\n\u001b[1;32m----> 2\u001b[1;33m \u001b[0mprint\u001b[0m\u001b[1;33m(\u001b[0m\u001b[0mdeportes\u001b[0m\u001b[1;33m[\u001b[0m\u001b[1;33m-\u001b[0m\u001b[1;36m4\u001b[0m\u001b[1;33m]\u001b[0m\u001b[1;33m)\u001b[0m\u001b[1;33m\u001b[0m\u001b[1;33m\u001b[0m\u001b[0m\n\u001b[0m",
      "\u001b[1;31mNameError\u001b[0m: name 'deportes' is not defined"
     ]
    }
   ],
   "source": [
    "# No es posible acceder a un elemento de la lista con un índice que no existe\n",
    "print(deportes[-4])"
   ]
  },
  {
   "cell_type": "code",
   "execution_count": 8,
   "metadata": {},
   "outputs": [
    {
     "name": "stdout",
     "output_type": "stream",
     "text": [
      "2 1\n"
     ]
    }
   ],
   "source": [
    "variable1 = 1\n",
    "variable2 = 2 \n",
    "auxiliar = variable1\n",
    "variable1 = variable2\n",
    "variable2 = auxiliar\n",
    "print(variable1, variable2)"
   ]
  },
  {
   "cell_type": "code",
   "execution_count": 9,
   "metadata": {},
   "outputs": [
    {
     "name": "stdout",
     "output_type": "stream",
     "text": [
      "2 1\n"
     ]
    }
   ],
   "source": [
    "variable1 = 1\n",
    "variable2 = 2 \n",
    "\n",
    "variable1, variable2, = variable2, variable1\n",
    "print(variable1, variable2)"
   ]
  },
  {
   "cell_type": "code",
   "execution_count": 12,
   "metadata": {},
   "outputs": [
    {
     "name": "stdout",
     "output_type": "stream",
     "text": [
      "[5, 3, 8, 1, 10]\n"
     ]
    }
   ],
   "source": [
    "miLista = [10, 1, 8, 3, 5]\n",
    "miLista [0], miLista [4] = miLista [4], miLista [0]\n",
    "miLista [1], miLista [3] = miLista [3], miLista [1]\n",
    "print(miLista)"
   ]
  }
 ],
 "metadata": {
  "kernelspec": {
   "display_name": "Python 3",
   "language": "python",
   "name": "python3"
  },
  "language_info": {
   "codemirror_mode": {
    "name": "ipython",
    "version": 3
   },
   "file_extension": ".py",
   "mimetype": "text/x-python",
   "name": "python",
   "nbconvert_exporter": "python",
   "pygments_lexer": "ipython3",
   "version": "3.8.3"
  }
 },
 "nbformat": 4,
 "nbformat_minor": 4
}
